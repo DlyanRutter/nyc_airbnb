{
 "cells": [
  {
   "cell_type": "markdown",
   "id": "89a74ff8",
   "metadata": {},
   "source": [
    "First import libraries"
   ]
  },
  {
   "cell_type": "code",
   "execution_count": null,
   "id": "0a2d7a75",
   "metadata": {},
   "outputs": [],
   "source": [
    "import wandb\n",
    "import ydata_profiling  #previously pandas_profiling\n",
    "import matplotlib.pyplot as plt \n",
    "import pandas as pd\n",
    "import ipywidgets\n",
    "import warnings \n",
    "import os\n",
    "\n",
    "os.environ[\"WANDB_SILENT\"] = \"True\"\n",
    "warnings.filterwarnings(\"ignore\", category=FutureWarning)"
   ]
  },
  {
   "cell_type": "markdown",
   "id": "32518745",
   "metadata": {},
   "source": [
    "Initiate run"
   ]
  },
  {
   "cell_type": "code",
   "execution_count": null,
   "id": "37e0af1a",
   "metadata": {},
   "outputs": [],
   "source": [
    "run = wandb.init(project=\"nyc_airbnb\", save_code=True) # save_code=True to uplode to wandb"
   ]
  },
  {
   "cell_type": "markdown",
   "id": "555d0e8d",
   "metadata": {},
   "source": [
    "Pull artifact from wandb and get local path"
   ]
  },
  {
   "cell_type": "code",
   "execution_count": null,
   "id": "cc91dd86",
   "metadata": {},
   "outputs": [],
   "source": [
    "artifact = run.use_artifact('/nyc_airbnb/sample.csv:v1', type='raw_data')\n",
    "local_path=artifact.file()"
   ]
  },
  {
   "cell_type": "markdown",
   "id": "f3cdf004",
   "metadata": {},
   "source": [
    "Get data frame"
   ]
  },
  {
   "cell_type": "code",
   "execution_count": null,
   "id": "64662986",
   "metadata": {},
   "outputs": [],
   "source": [
    "df = pd.read_csv(local_path, low_memory=False)"
   ]
  },
  {
   "cell_type": "markdown",
   "id": "9b896388",
   "metadata": {},
   "source": [
    "Establish and show pandas profile"
   ]
  },
  {
   "cell_type": "code",
   "execution_count": null,
   "id": "0f4a0b45",
   "metadata": {},
   "outputs": [],
   "source": [
    "profile=ydata_profiling.ProfileReport(df)\n",
    "profile.to_widgets()"
   ]
  },
  {
   "cell_type": "code",
   "execution_count": null,
   "id": "a7ac3c21",
   "metadata": {},
   "outputs": [],
   "source": [
    "profile"
   ]
  },
  {
   "cell_type": "markdown",
   "id": "daf21ce0",
   "metadata": {},
   "source": [
    "Finish run"
   ]
  },
  {
   "cell_type": "code",
   "execution_count": null,
   "id": "fd11beb1",
   "metadata": {},
   "outputs": [],
   "source": [
    "run.finish()"
   ]
  },
  {
   "cell_type": "code",
   "execution_count": null,
   "id": "68a8052d",
   "metadata": {},
   "outputs": [],
   "source": []
  }
 ],
 "metadata": {
  "kernelspec": {
   "display_name": "Python 3 (ipykernel)",
   "language": "python",
   "name": "python3"
  },
  "language_info": {
   "codemirror_mode": {
    "name": "ipython",
    "version": 3
   },
   "file_extension": ".py",
   "mimetype": "text/x-python",
   "name": "python",
   "nbconvert_exporter": "python",
   "pygments_lexer": "ipython3",
   "version": "3.10.0"
  }
 },
 "nbformat": 4,
 "nbformat_minor": 5
}
